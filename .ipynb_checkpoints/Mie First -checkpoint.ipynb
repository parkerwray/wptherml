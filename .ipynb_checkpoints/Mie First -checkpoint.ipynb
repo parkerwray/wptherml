{
 "cells": [
  {
   "cell_type": "markdown",
   "metadata": {},
   "source": [
    "### Mie First\n",
    "Mie theory provides a route to the exact solution to Maxwell's equations for light interacting with a spherical object; this is done by expanding the incident and scattered\n",
    "light waves in a basis of multi-polar functions; hence one usually speaks about the dipolar contribution to scattering, the quadrupolar contribution, the octupolar, and so on.  For very large particles, many orders of this expansion may be needed, but for small particles the scattering and absorption is dominated by the dipolar contribution.  Hence, for spherical nanoparticles that are less than or equal to about 10 nm in diameter, the Mie theory expansion is truncated after only the first term.  As a concrete example, the Mie theory expression for the absorption of a small spherical nanoparticle is as follows:\n",
    "\n",
    "\\begin{equation}\n",
    "\\sigma_{abs}(\\lambda) = \\frac{2 \\pi}{\\lambda} {\\rm Im}\\left( \\alpha(\\lambda) \\right),\n",
    "\\end{equation}\n",
    "where $\\alpha(\\lambda)$ is the dipole polarizability given by\n",
    "\\begin{equation}\n",
    "\\alpha(\\lambda) = 4 \\pi r^3 \\left( \\frac{\\epsilon_p(\\lambda) - \\epsilon_s}{\\epsilon_p(\\lambda) + 2\\epsilon_s} \\right)\n",
    "\\end{equation}\n",
    "where $r$ is the radius of the particle, $\\epsilon_p(\\lambda)$ denotes the wavelength-dependent dielectric function of the material the particle is made from, $\\epsilon_s$ denotes the dielectric function of the surroundings (or solvent) that the particle is immersed in, and ${\\rm Im}$ means we will only take the imaginary part of the quotient (the dielectric function of the particle will typically be complex; if it is not, there will be no absorption).\n",
    "\n",
    "We can use WPTherml to get the refractive index of materials as a function of wavelength, which is equivalent to the dielectric function as a function of wavelength by\n",
    "\\begin{equation}\n",
    "\\epsilon_p(\\lambda) = n_p(\\lambda)^2,\n",
    "\\end{equation}\n",
    "where $n_p(\\lambda)$ is the refractive index of the particle. \n"
   ]
  },
  {
   "cell_type": "code",
   "execution_count": 5,
   "metadata": {},
   "outputs": [
    {
     "name": "stdout",
     "output_type": "stream",
     "text": [
      " Temperature not specified!\n",
      " Proceeding with default T = 300 K\n"
     ]
    },
    {
     "data": {
      "image/png": "[encoded data removed]",
      "text/plain": [
       "<matplotlib.figure.Figure at 0x181dbd9588>"
      ]
     },
     "metadata": {},
     "output_type": "display_data"
    }
   ],
   "source": [
    "from wptherml.wpml import multilayer\n",
    "from matplotlib import pyplot as plt\n",
    "from wptherml.datalib import datalib\n",
    "import numpy as np\n",
    "\n",
    "structure = {\n",
    "\n",
    "        'Material_List': ['Air', 'Ag', 'Air'],\n",
    "        'Thickness_List': [0,  200e-9, 0],\n",
    "        'Lambda_List': [200e-9, 700e-9, 2000],\n",
    "     \n",
    "        }\n",
    "\n",
    "### create the silver object - call it sphere for no particular reason\n",
    "sphere = multilayer(structure)\n",
    "### get the refractive index of Ag (since it is layer 1 based on the structure above)\n",
    "n_Ag = sphere.layer_ri(1)\n",
    "### get the dielectric function of Ag\n",
    "eps_Ag = n_Ag * n_Ag\n",
    "\n",
    "'''Lets compute the Mie theory absorption of a 3 nm Ag particle in water, which \n",
    "   has refractive index = 1.33, here!'''\n",
    "r = ### fill in radius here, use meters!\n",
    "eps_s =  ### fill in dielectric function of water here!\n",
    "quotient = ### compute the quotient whose Imaginary part you need from Mie theory expression here\n",
    "pre = ### compute pre-factor that depends on wavelength and radius here!\n",
    "sigma_abs = ### compute full absorption spectrum here!\n",
    "\n",
    "plt.plot(sphere.lambda_array*1e9, sigma_abs, 'red')\n",
    "plt.show()"
   ]
  },
  {
   "cell_type": "markdown",
   "metadata": {},
   "source": [
    "### Quesion 1: How does the spectrum change as you increase the dielectric constant of the surrounding materials?  Try n = 1.45 for glass and n = 1.76 for alumina.\n",
    "\n",
    "### Question 2: How does the spectrum change as you decrease the dielectric constant of the surrounding materials?  Try n = 1.0 for air.\n",
    "\n",
    "### Question 3:  How does the spectrum change if you use Au instead of Ag?\n",
    "\n",
    "### Question 4:  Plot the real and imaginary parts of the dielectric function of Au and Ag as a function of wavelength; what do you notice about the values in the vicinity of the plasmon resonance (i.e. at wavelengths where the strong absorption peak is observed)?"
   ]
  },
  {
   "cell_type": "code",
   "execution_count": null,
   "metadata": {},
   "outputs": [],
   "source": [
    "### Example code for getting the dielectric function of Ag\n",
    "### Get RI of silver (layer 1) of sphere object\n",
    "Ag_RI = sphere.layer_ri(1)\n",
    "### dielectric function is square of refractive index\n",
    "Ag_eps = Ag_RI * Ag_RI"
   ]
  },
  {
   "cell_type": "markdown",
   "metadata": {},
   "source": [
    "Mie theory provides a classical electrodynamics treatment of the absorption of light by matter; of course we can use quantum mechanics to simulate the absorption of light, as well.  In analogy to our previous Mie theory treatment, we can assume that the interaction between our quantum system and light is dominated by dipolar interactions.  In this view, the absorption of light occurs under the following conditions:\n",
    "(a) the energy associated with the absorbed light matches the energy difference between two energy eigenstates (call the intial energy eigenstate $\\psi_i$ and the final energy eigenstate $\\psi_f$, note that $E_i$ need not be less than $E_f$).\n",
    "(b) there is a charge displacement associated with the transition from $\\psi_i$ to $\\psi_f$; this gives rise to a *transition dipole moment* that is quantified by the expectation value\n",
    "\\begin{equation}\n",
    "\\mu_{if} = \\langle \\psi_i | \\hat{\\mu} | \\psi_f \\rangle,\n",
    "\\end{equation}\n",
    "where $\\hat{\\mu}$ is the transition dipole operator, given by $q {\\bf r}$ where\n",
    "$q$ is the charge (for a molecular transition, this would be a single electron charge) and \n",
    "${\\bf r}$ is the position operator for charged matter.  A bit of dimensional analysis reveals\n",
    "that the electric field (which has dimensions of electric potential over length) dotted into the dipole operator (which has dimensions of charge times length) has overal dimensions of energy, so we can think of the interaction of a time-varying electric field with the transition dipole moment of a quantum system as a time-varying potential term in its Hamiltonian.  This leads to the typical \"light-matter\" contribution to Hamiltonians:\n",
    "\\begin{equation}\n",
    "\\hat{H}(t) = \\hat{H}_0 - {\\bf E}(t) \\cdot \\hat{\\mu},\n",
    "\\end{equation}\n",
    "where $\\hat{H}_0$ is the Hamiltonian for your quantum system in the absence of the time-varying electric field (i.e. in the dark).\n",
    "\n",
    "### Who's in Liouville now\n",
    "We can see what impact light has on our quantum system by evolving the quantum state under the influence of the potential exerted by the light.  We can do this either by solving the time-dependent Schr\\\"odinger equation, or the analog of the time-dependent Schr\\\"odinger equation for the density matrix, which is called the Liouville equation.\n",
    "\n",
    "Here we will use the Liouville equation because it permits a simple modification that allows us to model spontaneous emission of absorbed light, and this effect will lead to the appropriate linewidth of the absorption spectrum we will simulate.  Some of you may recall the\n",
    "Liouville equation has the form\n",
    "\\begin{equation}\n",
    "\\frac{d}{dt} {\\bf D} = \\frac{-i}{\\hbar} [{\\bf H},{\\bf D}],\n",
    "\\end{equation}\n",
    "where $[{\\bf H},{\\bf D}] = {\\bf H}{\\bf D}-{\\bf D}{\\bf H}$ is known as a commutator of the Hamiltonian and Density matrices.  \n",
    "\n",
    "We can consider modeling a system \n",
    "\n"
   ]
  },
  {
   "cell_type": "markdown",
   "metadata": {},
   "source": []
  }
 ],
 "metadata": {
  "kernelspec": {
   "display_name": "Python 3",
   "language": "python",
   "name": "python3"
  },
  "language_info": {
   "codemirror_mode": {
    "name": "ipython",
    "version": 3
   },
   "file_extension": ".py",
   "mimetype": "text/x-python",
   "name": "python",
   "nbconvert_exporter": "python",
   "pygments_lexer": "ipython3",
   "version": "3.7.1"
  }
 },
 "nbformat": 4,
 "nbformat_minor": 2
}
