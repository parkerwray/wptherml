{
 "cells": [
  {
   "cell_type": "markdown",
   "metadata": {
    "slideshow": {
     "slide_type": "slide"
    }
   },
   "source": [
    "## Validation of Cooling Lib\n",
    "This notebook will build the multi-layer structure described in Raman $et$ $al.$, Nature 515, 540-546 (2014), compute plot its emissivity in the solar region and in the atmospheric transmissivity region of the spectrum (~300-2500 nm for the former, 2500-20000 nm for the latter), and compute the cooling power for several different differences between the temperature of the structure and the ambient temperature.  \n"
   ]
  },
  {
   "cell_type": "code",
   "execution_count": null,
   "metadata": {
    "slideshow": {
     "slide_type": "slide"
    }
   },
   "outputs": [],
   "source": [
    "### Import WPTHERML class!\n",
    "from wptherml.wpml import multilayer\n",
    "from matplotlib import pyplot as plt\n",
    "from wptherml.datalib import datalib\n",
    "\n",
    "### Define structure!\n",
    "\n",
    "structure = {\n",
    "\n",
    "        'Material_List': ['Air', 'SiO2', 'HfO2', 'SiO2', 'HfO2', 'SiO2', 'HfO2', 'SiO2', 'Au', 'Air'],\n",
    "        'Thickness_List': [0, 230e-9, 485e-9, 688e-9, 13e-9, 73e-9, 34e-9, 54e-9, 200e-9, 0],\n",
    "        'Lambda_List': [300e-9, 20000e-9, 2000],\n",
    "        'EXPLICIT_ANGLE': 1,\n",
    "        'COOLING': 1\n",
    "     \n",
    "        }\n",
    "\n",
    "### create instance of multilayer class - results will be computed automiatically\n",
    "w_slab = multilayer(structure)\n",
    "AM = datalib.AM(w_slab.lambda_array)\n",
    "T_atm = datalib.ATData(w_slab.lambda_array)\n",
    "BB = datalib.BB(w_slab.lambda_array, w_slab.T_ml)\n",
    "\n",
    "### plot results!\n",
    "plt.plot(w_slab.lambda_array*1e6, w_slab.emissivity_array, 'blue')\n",
    "plt.plot(w_slab.lambda_array*1e6, AM/(1.4*1e9), 'red')\n",
    "plt.xlim(0.3,2.5)\n",
    "plt.show()\n",
    "\n",
    "\n",
    "plt.plot(w_slab.lambda_array*1e6, T_atm, 'cyan', label='Atmospheric Transparency')\n",
    "plt.plot(w_slab.lambda_array*1e6, w_slab.emissivity_array, 'red', label='Emissivity')\n",
    "#plt.plot(w_slab.lambda_array*1e6, BB, 'black')\n",
    "plt.xlim(2.5,20)\n",
    "plt.show()\n"
   ]
  },
  {
   "cell_type": "code",
   "execution_count": 19,
   "metadata": {
    "slideshow": {
     "slide_type": "slide"
    }
   },
   "outputs": [
    {
     "name": "stdout",
     "output_type": "stream",
     "text": [
      "Radiative Power (cooling) is  125.659248019166 W/m^2\n",
      "Absorbed Solar Power (warming) is  355.813032887916 W/m^2\n",
      "Absorbed Atmospheric Radiation (warming) is  37.62767583608932 W/m^2\n",
      "Net Power flux out of the structure is  -267.78146070483933 W/m^2\n"
     ]
    }
   ],
   "source": [
    "#w_slab.cooling_power()\n",
    "\n",
    "print(\"Radiative Power (cooling) is \",w_slab.radiative_power_val, \"W/m^2\")\n",
    "print(\"Absorbed Solar Power (warming) is \",w_slab.solar_power_val, \"W/m^2\")\n",
    "print(\"Absorbed Atmospheric Radiation (warming) is \",w_slab.atmospheric_power_val, \"W/m^2\")\n",
    "print(\"Net Power flux out of the structure is \",w_slab.cooling_power_val, \"W/m^2\")"
   ]
  },
  {
   "cell_type": "code",
   "execution_count": null,
   "metadata": {},
   "outputs": [],
   "source": []
  }
 ],
 "metadata": {
  "kernelspec": {
   "display_name": "Python 3",
   "language": "python",
   "name": "python3"
  },
  "language_info": {
   "codemirror_mode": {
    "name": "ipython",
    "version": 3
   },
   "file_extension": ".py",
   "mimetype": "text/x-python",
   "name": "python",
   "nbconvert_exporter": "python",
   "pygments_lexer": "ipython3",
   "version": "3.7.1"
  }
 },
 "nbformat": 4,
 "nbformat_minor": 2
}
