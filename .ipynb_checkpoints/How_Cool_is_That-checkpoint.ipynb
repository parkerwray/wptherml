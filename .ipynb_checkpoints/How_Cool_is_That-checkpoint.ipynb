{
 "cells": [
  {
   "cell_type": "markdown",
   "metadata": {
    "slideshow": {
     "slide_type": "slide"
    }
   },
   "source": [
    "## Radiative Cooling\n",
    "Typically, materials that sit in the sun get hot (duh!).  However, there are some very special cases in which a material can actually get cooler while sitting in the sun.  All that is required is that the material radiates more energy **into** the universe than it absorbs **from** the universe; simple!  We can define a flow of *cooling* radiative power from a material as follows:\n",
    "\\begin{equation}\n",
    "P_{cool}(T) = P_{rad}(T) - P_{atm}(T_{amb}) - P_{sun},\n",
    "\\end{equation}\n",
    "where $P_{rad}(T)$ quantifies the flow of radiative power from the material into the universe,\n",
    "$P_{atm}(T_{amb})$ quantifies the flow of radiative power from the earth's atmosphere to the material, and $P_{sun}$ quantifies the flow of radiative power from the sun to the material.\n",
    "If $P_{cool}(T)$ is positive, net radiative cooling occurs, and if $P_{cool}(T)$ is positive, net radiative heating occurs.\n",
    "\n",
    "Each of these terms can be defined in terms of the *emissivity* of the material, which is equivalent to its *absorptivity* (in fact, for the $P_{sun}$ term, absorptivity is probably the more intuitive concept):\n",
    "\\begin{equation}\n",
    "P_{rad}(T) = A \\: 2\\pi \\int_0^{\\pi/2} d\\theta \\: {\\rm sin}(\\theta) \\int_{\\lambda_{min}}^{\\lambda_{max}} d\\lambda \\left(\\epsilon_p(\\lambda, \\theta) + \\epsilon_s(\\lambda, \\theta)  \\right) \\rho(\\lambda, T_{mat}) ,\n",
    "\\end{equation}\n",
    "\n",
    "\\begin{equation}\n",
    "P_{atm}(T_{amb}) = A 2\\pi \\int_0^{\\pi/2} d\\theta \\: {\\rm sin}(\\theta) {\\rm cos}(\\theta)\\int_{\\lambda_{min}}^{\\lambda_{max}} \n",
    "d\\lambda \\left(\\epsilon_p(\\lambda, \\theta) + \\epsilon_s(\\lambda, \\theta)  \\right) \\rho(\\lambda, T_{amb}) \n",
    "\\epsilon_{atm}(\\lambda, \\theta),\n",
    "\\end{equation}\n",
    "\n",
    "and\n",
    "\n",
    "\\begin{equation}\n",
    "P_{sun} = A \\int_{\\lambda_{min}}^{\\lambda_{max}} d\\lambda \\: \\frac{1}{2} \\left( \\epsilon_p(\\lambda, \\theta_{sun}) + \\epsilon_s(\\lambda, \\theta_{sun})\\right) AM(\\lambda).\n",
    "\\end{equation}\n",
    "In the above equation, the $\\epsilon_p(\\lambda, \\theta)$/$\\epsilon_s(\\lambda, \\theta)$ define the emissivity/absorptivity of the material as a function of wavelength, angle, and polarization of light, $\\rho(\\lambda, T)$ is Planck's blackbody radiation law, $AM(\\lambda)$\n",
    "is the solar spectrum, $T_{mat}$ denotes the temperature of the material, and $T_{amb}$ denotes the ambient temperature.  Note that the absorptivity/emissivity of an opaque material is complementary to its reflectance: $\\epsilon(\\lambda) = 1 - R(\\lambda)$.\n",
    "\n",
    "In the above, $T_{amb}$ and $T_{mat}$ will both be around 300 K.  \n",
    "\n",
    "### Question 1:  In what spectral region does Planck's Blackbody Law peak at 300 K?  How does this compare to the peak of the solar spectrum?\n",
    "\n",
    "### Question 2:  What properties do you think an ideal cooling material should have in terms of its emissivity/absorptivity in the spectral region that overlaps with the solar spectrum?\n",
    "\n",
    "### Question 3: What properties do you think an ideal cooling material should have in terms of its emissivity/absorptivity in the spectral region that overlaps with the Blackbody spectrum at 300K?\n",
    "\n",
    "### Question 4: How can you explain the origin of the radiation flowing from the earth's atmosphere to the structure?  Why does the sky itself radiate?\n",
    "\n",
    "This notebook will build the multi-layer structure described in Raman $et$ $al.$, Nature 515, 540-546 (2014), compute plot its emissivity in the solar region and in the atmospheric transmissivity region of the spectrum (~300-2500 nm for the former, 2500-20000 nm for the latter), and compute the cooling power for several different differences between the temperature of the structure and the ambient temperature.  \n"
   ]
  },
  {
   "cell_type": "code",
   "execution_count": 1,
   "metadata": {
    "slideshow": {
     "slide_type": "slide"
    }
   },
   "outputs": [
    {
     "name": "stdout",
     "output_type": "stream",
     "text": [
      " Temperature not specified!\n",
      " Proceeding with default T = 300 K\n"
     ]
    },
    {
     "data": {
      "text/plain": [
       "<matplotlib.figure.Figure at 0x110e06e80>"
      ]
     },
     "metadata": {},
     "output_type": "display_data"
    },
    {
     "data": {
      "text/plain": [
       "<matplotlib.figure.Figure at 0x181ae65160>"
      ]
     },
     "metadata": {},
     "output_type": "display_data"
    }
   ],
   "source": [
    "### Import WPTHERML class!\n",
    "from wptherml.wpml import multilayer\n",
    "from matplotlib import pyplot as plt\n",
    "from wptherml.datalib import datalib\n",
    "import numpy as np\n",
    "### Define structure!\n",
    "\n",
    "structure = {\n",
    "\n",
    "        'Material_List': ['Air', 'SiO2', 'HfO2', 'SiO2', 'HfO2', 'SiO2', 'HfO2', 'SiO2', 'Ag', 'Air'],\n",
    "        'Thickness_List': [0, 230e-9, 485e-9, 688e-9, 13e-9, 73e-9, 34e-9, 54e-9, 200e-9, 0],\n",
    "        'Lambda_List': [300e-9, 20000e-9, 2000],\n",
    "        'EXPLICIT_ANGLE': 1,\n",
    "        'COOLING': 1\n",
    "     \n",
    "        }\n",
    "\n",
    "### create instance of multilayer class - results will be computed automatically\n",
    "w_slab = multilayer(structure)\n",
    "AM = datalib.AM(w_slab.lambda_array)\n",
    "T_atm = datalib.ATData(w_slab.lambda_array)\n",
    "BB = datalib.BB(w_slab.lambda_array, w_slab.T_ml)\n",
    "\n",
    "### plot results!\n",
    "plt.plot(w_slab.lambda_array*1e6, w_slab.emissivity_array, 'blue')\n",
    "plt.plot(w_slab.lambda_array*1e6, AM/(1.4*1e9), 'red')\n",
    "plt.xlim(0.3,2.5)\n",
    "plt.show()\n",
    "\n",
    "\n",
    "plt.plot(w_slab.lambda_array*1e6, T_atm, 'cyan')\n",
    "plt.plot(w_slab.lambda_array*1e6, w_slab.emissivity_array, 'red')\n",
    "#plt.plot(w_slab.lambda_array*1e6, BB, 'black')\n",
    "plt.xlim(2.5,20)\n",
    "plt.show()\n"
   ]
  },
  {
   "cell_type": "code",
   "execution_count": 2,
   "metadata": {
    "slideshow": {
     "slide_type": "slide"
    }
   },
   "outputs": [
    {
     "name": "stdout",
     "output_type": "stream",
     "text": [
      "Radiative Power (cooling) is  112.07959879454343 W/m^2\n",
      "Absorbed Solar Power (warming) is  18.602633707369037 W/m^2\n",
      "Absorbed Atmospheric Radiation (warming) is  29.679241649356346 W/m^2\n",
      "Net Power flux out of the structure is  63.79772343781805 W/m^2\n"
     ]
    }
   ],
   "source": [
    "#w_slab.cooling_power()\n",
    "\n",
    "print(\"Radiative Power (cooling) is \",w_slab.radiative_power_val, \"W/m^2\")\n",
    "print(\"Absorbed Solar Power (warming) is \",w_slab.solar_power_val, \"W/m^2\")\n",
    "print(\"Absorbed Atmospheric Radiation (warming) is \",w_slab.atmospheric_power_val, \"W/m^2\")\n",
    "print(\"Net Power flux out of the structure is \",w_slab.cooling_power_val, \"W/m^2\")"
   ]
  },
  {
   "cell_type": "markdown",
   "metadata": {},
   "source": [
    "### Experiment: Try various materials in place of the complicated multi-layer structure from Fan's paper and compare the emissivity, radiative power, solar power, atmospheric power, and cooling power to the multilayer in each case.  See if you can do better than it!  One example of a 900 nm TiO2 slab follows:"
   ]
  },
  {
   "cell_type": "code",
   "execution_count": 4,
   "metadata": {},
   "outputs": [
    {
     "name": "stdout",
     "output_type": "stream",
     "text": [
      " Temperature not specified!\n",
      " Proceeding with default T = 300 K\n"
     ]
    },
    {
     "data": {
      "image/png": "[encoded data removed]",
      "text/plain": [
       "<matplotlib.figure.Figure at 0x181ad2c748>"
      ]
     },
     "metadata": {},
     "output_type": "display_data"
    },
    {
     "data": {
      "image/png": "[encoded data removed]",
      "text/plain": [
       "<matplotlib.figure.Figure at 0x181b62e4e0>"
      ]
     },
     "metadata": {},
     "output_type": "display_data"
    },
    {
     "name": "stdout",
     "output_type": "stream",
     "text": [
      "Radiative Power (cooling) is  52.77855146231262 W/m^2\n",
      "Absorbed Solar Power (warming) is  6.362467680665429 W/m^2\n",
      "Absorbed Atmospheric Radiation (warming) is  26.47582490711484 W/m^2\n",
      "Net Power flux out of the structure is  19.94025887453235 W/m^2\n"
     ]
    }
   ],
   "source": [
    "structure = {\n",
    "\n",
    "        'Material_List': ['Air', 'TiO2', 'Air'],\n",
    "        'Thickness_List': [0, 200e-9, 0],\n",
    "        'Lambda_List': [300e-9, 20000e-9, 2000],\n",
    "        'EXPLICIT_ANGLE': 1,\n",
    "        'COOLING': 1\n",
    "     \n",
    "        }\n",
    "\n",
    "### create instance of multilayer class - results will be computed automatically\n",
    "w_slab = multilayer(structure)\n",
    "AM = datalib.AM(w_slab.lambda_array)\n",
    "T_atm = datalib.ATData(w_slab.lambda_array)\n",
    "BB = datalib.BB(w_slab.lambda_array, w_slab.T_ml)\n",
    "\n",
    "n_tio2 = w_slab.layer_ri(1)\n",
    "\n",
    "### plot results!\n",
    "plt.plot(w_slab.lambda_array*1e6, w_slab.emissivity_array, 'blue')\n",
    "plt.plot(w_slab.lambda_array*1e6, AM/(1.4*1e9), 'red')\n",
    "#plt.plot(w_slab.lambda_array*1e6, np.real(n_tio2), 'red')\n",
    "#plt.plot(w_slab.lambda_array*1e6, np.imag(n_tio2), 'blue')\n",
    "plt.xlim(0.2,2.5)\n",
    "plt.show()\n",
    "\n",
    "\n",
    "plt.plot(w_slab.lambda_array*1e6, T_atm, 'cyan')\n",
    "plt.plot(w_slab.lambda_array*1e6, w_slab.emissivity_array, 'red')\n",
    "#plt.plot(w_slab.lambda_array*1e6, BB, 'black')\n",
    "plt.xlim(2.5,20)\n",
    "plt.show()\n",
    "\n",
    "print(\"Radiative Power (cooling) is \",w_slab.radiative_power_val, \"W/m^2\")\n",
    "print(\"Absorbed Solar Power (warming) is \",w_slab.solar_power_val, \"W/m^2\")\n",
    "print(\"Absorbed Atmospheric Radiation (warming) is \",w_slab.atmospheric_power_val, \"W/m^2\")\n",
    "print(\"Net Power flux out of the structure is \",w_slab.cooling_power_val, \"W/m^2\")"
   ]
  },
  {
   "cell_type": "code",
   "execution_count": null,
   "metadata": {},
   "outputs": [],
   "source": []
  }
 ],
 "metadata": {
  "kernelspec": {
   "display_name": "Python 3",
   "language": "python",
   "name": "python3"
  },
  "language_info": {
   "codemirror_mode": {
    "name": "ipython",
    "version": 3
   },
   "file_extension": ".py",
   "mimetype": "text/x-python",
   "name": "python",
   "nbconvert_exporter": "python",
   "pygments_lexer": "ipython3",
   "version": "3.7.1"
  }
 },
 "nbformat": 4,
 "nbformat_minor": 2
}
